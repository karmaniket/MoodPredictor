{
 "cells": [
  {
   "cell_type": "code",
   "execution_count": 1,
   "id": "442c7fcf-897e-4dfa-8102-90339c734cf1",
   "metadata": {},
   "outputs": [],
   "source": [
    "import pandas as pd"
   ]
  },
  {
   "cell_type": "code",
   "execution_count": 2,
   "id": "3d0e0b64-62e6-4512-a713-90727df74338",
   "metadata": {},
   "outputs": [],
   "source": [
    "data = {\n",
    "    'text': [\n",
    "        \"I'm feeling so happy today!\", \"This is the best day ever!\", \"I love everything right now!\",\n",
    "        \"I'm really sad about the news.\", \"I feel so down and gloomy.\", \"Life is tough and depressing.\",\n",
    "        \"This makes me so angry!\", \"I can't believe how furious I am!\", \"This is so infuriating!\",\n",
    "        \"I'm excited about the upcoming event.\", \"I can't wait for the party!\", \"So thrilled for the trip!\",\n",
    "        \"I'm feeling a bit anxious.\", \"I have a lot of worries on my mind.\", \"I'm nervous about the exam.\",\n",
    "        \"I'm relaxed and calm right now.\", \"Feeling so peaceful and at ease.\", \"Everything feels serene and tranquil.\",\n",
    "        \"I'm absolutely thrilled!\", \"This is beyond exciting!\", \"I can't contain my excitement!\",\n",
    "        \"I'm feeling down and depressed.\", \"Everything feels hopeless.\", \"I'm in a dark place emotionally.\",\n",
    "        \"I'm furious about the mistake.\", \"I can't believe this happened!\", \"This is so upsetting!\",\n",
    "        \"I'm feeling quite content.\", \"Life is good and satisfying.\", \"I have no complaints at all.\",\n",
    "        \"I can't wait\", \"Hello\"\n",
    "    ],\n",
    "    'mood': [\n",
    "        \"happy\", \"happy\", \"happy\",\n",
    "        \"sad\", \"sad\", \"sad\",\n",
    "        \"angry\", \"angry\", \"angry\",\n",
    "        \"excited\", \"excited\", \"excited\",\n",
    "        \"anxious\", \"anxious\", \"anxious\",\n",
    "        \"calm\", \"calm\", \"calm\",\n",
    "        \"thrilled\", \"thrilled\", \"thrilled\",\n",
    "        \"depressed\", \"depressed\", \"depressed\",\n",
    "        \"furious\", \"furious\", \"furious\",\n",
    "        \"content\", \"content\", \"content\",\n",
    "        \"excited\", \"neutral\"\n",
    "    ]\n",
    "}"
   ]
  },
  {
   "cell_type": "code",
   "execution_count": 3,
   "id": "fc6d5b53-7d98-4d10-8ee7-f65fa09a9419",
   "metadata": {},
   "outputs": [],
   "source": [
    "df = pd.DataFrame(data)"
   ]
  },
  {
   "cell_type": "code",
   "execution_count": 4,
   "id": "b3f3fb5f-152e-472d-8940-a982b30cb344",
   "metadata": {},
   "outputs": [],
   "source": [
    "df.to_csv('mood_dataset.csv', index=False)"
   ]
  },
  {
   "cell_type": "code",
   "execution_count": null,
   "id": "4d0e1a3a-0041-4c3d-ae29-611adfd5c24f",
   "metadata": {},
   "outputs": [],
   "source": []
  }
 ],
 "metadata": {
  "kernelspec": {
   "display_name": "Python 3 (ipykernel)",
   "language": "python",
   "name": "python3"
  },
  "language_info": {
   "codemirror_mode": {
    "name": "ipython",
    "version": 3
   },
   "file_extension": ".py",
   "mimetype": "text/x-python",
   "name": "python",
   "nbconvert_exporter": "python",
   "pygments_lexer": "ipython3",
   "version": "3.10.9"
  }
 },
 "nbformat": 4,
 "nbformat_minor": 5
}
